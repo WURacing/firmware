{
 "cells": [
  {
   "cell_type": "code",
   "execution_count": 55,
   "metadata": {},
   "outputs": [],
   "source": [
    "import pandas as pd\n",
    "import numpy as np\n",
    "import matplotlib.pyplot as plt"
   ]
  },
  {
   "cell_type": "code",
   "execution_count": 56,
   "metadata": {},
   "outputs": [],
   "source": [
    "df = pd.read_csv('WUFR 23_WAP 23_a_0833.csv')\n",
    "df_filtered = df[['Time', 'FAnlg19']]"
   ]
  },
  {
   "cell_type": "code",
   "execution_count": 57,
   "metadata": {},
   "outputs": [],
   "source": [
    "# Filter the data\n",
    "for i in range(4, len(df)):\n",
    "    diff = abs(df_filtered['FAnlg19'][i] - df_filtered['FAnlg19'][i - 4])\n",
    "    if diff > 6:\n",
    "        for j in range(4):\n",
    "            df_filtered.loc[i - j, 'FAnlg19'] = df_filtered['FAnlg19'][i - 4]\n",
    "        # df_filtered.loc[i, 'FAnlg19'] = df_filtered['FAnlg19'][i - 1]"
   ]
  },
  {
   "cell_type": "code",
   "execution_count": 58,
   "metadata": {},
   "outputs": [
    {
     "name": "stderr",
     "output_type": "stream",
     "text": [
      "/var/folders/0p/gqwrfts538g0nczcykltdf980000gn/T/ipykernel_50262/2243949312.py:3: SettingWithCopyWarning: \n",
      "A value is trying to be set on a copy of a slice from a DataFrame.\n",
      "Try using .loc[row_indexer,col_indexer] = value instead\n",
      "\n",
      "See the caveats in the documentation: https://pandas.pydata.org/pandas-docs/stable/user_guide/indexing.html#returning-a-view-versus-a-copy\n",
      "  df_filtered['FAnlg19'] = df_filtered['FAnlg19'] * 0.000045 - 0.0225\n"
     ]
    }
   ],
   "source": [
    "# Convert to PSI\n",
    "df['FAnlg19'] = df['FAnlg19'] * 0.000045 - 0.0225\n",
    "df_filtered['FAnlg19'] = df_filtered['FAnlg19'] * 0.000045 - 0.0225"
   ]
  },
  {
   "cell_type": "code",
   "execution_count": 59,
   "metadata": {},
   "outputs": [
    {
     "name": "stdout",
     "output_type": "stream",
     "text": [
      "        Time   FAnlg19\n",
      "0       0.00 -0.019125\n",
      "1       0.05 -0.019125\n",
      "2       0.10 -0.019125\n",
      "3       0.15 -0.019125\n",
      "4       0.20 -0.019125\n",
      "...      ...       ...\n",
      "7355  367.75 -0.017775\n",
      "7356  367.80 -0.017775\n",
      "7357  367.85 -0.017775\n",
      "7358  367.90 -0.017775\n",
      "7359  367.95 -0.017775\n",
      "\n",
      "[7360 rows x 2 columns]\n"
     ]
    }
   ],
   "source": [
    "#print all of df_filtered\n",
    "\n",
    "print(df_filtered)"
   ]
  },
  {
   "cell_type": "code",
   "execution_count": 62,
   "metadata": {},
   "outputs": [
    {
     "data": {
      "image/png": "[encoded data removed]",
      "text/plain": [
       "<Figure size 432x288 with 1 Axes>"
      ]
     },
     "metadata": {
      "needs_background": "light"
     },
     "output_type": "display_data"
    }
   ],
   "source": [
    "plt.plot(df_filtered['Time'], df_filtered['FAnlg19'])\n",
    "plt.show()"
   ]
  },
  {
   "cell_type": "code",
   "execution_count": 61,
   "metadata": {},
   "outputs": [
    {
     "name": "stdout",
     "output_type": "stream",
     "text": [
      "-0.019125\n",
      "-0.01584\n"
     ]
    }
   ],
   "source": [
    "print(df_filtered['FAnlg19'][0])\n",
    "print(df_filtered['FAnlg19'][len(df_filtered)/2])"
   ]
  }
 ],
 "metadata": {
  "kernelspec": {
   "display_name": "Python 3",
   "language": "python",
   "name": "python3"
  },
  "language_info": {
   "codemirror_mode": {
    "name": "ipython",
    "version": 3
   },
   "file_extension": ".py",
   "mimetype": "text/x-python",
   "name": "python",
   "nbconvert_exporter": "python",
   "pygments_lexer": "ipython3",
   "version": "3.9.12"
  }
 },
 "nbformat": 4,
 "nbformat_minor": 2
}
