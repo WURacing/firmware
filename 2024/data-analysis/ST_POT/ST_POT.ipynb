{
 "cells": [
  {
   "cell_type": "code",
   "execution_count": 4,
   "metadata": {},
   "outputs": [],
   "source": [
    "#I am inputting the returned values of a sensor when it is turned to the -90 degree position (L) and \n",
    "#the 90 degree position (R), I want to calculate the linearization that will transform the sensor values\n",
    "#to -90 / 90\n",
    "\n",
    "def linearize(st_L,st_R):\n",
    "    m = (180.0)/(st_R-st_L)\n",
    "    b = -90 - m*st_L\n",
    "\n",
    "    return m,b"
   ]
  },
  {
   "cell_type": "code",
   "execution_count": 5,
   "metadata": {},
   "outputs": [
    {
     "name": "stdout",
     "output_type": "stream",
     "text": [
      "(0.706436420722135, -66.68759811616954)\n"
     ]
    }
   ],
   "source": [
    "v_l = -33.0\n",
    "v_r = 221.8\n",
    "\n",
    "print(linearize(v_l,v_r))"
   ]
  }
 ],
 "metadata": {
  "kernelspec": {
   "display_name": "base",
   "language": "python",
   "name": "python3"
  },
  "language_info": {
   "codemirror_mode": {
    "name": "ipython",
    "version": 3
   },
   "file_extension": ".py",
   "mimetype": "text/x-python",
   "name": "python",
   "nbconvert_exporter": "python",
   "pygments_lexer": "ipython3",
   "version": "3.9.12"
  }
 },
 "nbformat": 4,
 "nbformat_minor": 2
}
