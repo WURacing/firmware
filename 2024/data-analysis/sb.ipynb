{
 "cells": [
  {
   "cell_type": "code",
   "execution_count": 17,
   "metadata": {},
   "outputs": [
    {
     "name": "stdout",
     "output_type": "stream",
     "text": [
      "Initial vector A:\n",
      "[-8.02 -0.62  6.4 ]\n",
      "Normalized initial vector A:\n",
      "[-0.78020585 -0.06031517  0.62260816]\n",
      "Target vector B:\n",
      "[ 0  0 10]\n",
      "Normalized target vector B:\n",
      "[0. 0. 1.]\n",
      "Rotation axis (normalized):\n",
      "[-0.07707676  0.99702516  0.        ]\n",
      "Rotation angle (degrees):\n",
      "51.49315291598431\n",
      "Rotation matrix R:\n",
      "[[ 0.62485018 -0.02900161  0.78020585]\n",
      " [-0.02900161  0.99775798  0.06031517]\n",
      " [-0.78020585 -0.06031517  0.62260816]]\n",
      "Rotated vector A:\n",
      "[-7.63821996e-16 -1.78088773e-16  1.00000000e+01]\n"
     ]
    }
   ],
   "source": [
    "import numpy as np\n",
    "\n",
    "def normalize(v):\n",
    "    \"\"\"Normalize a vector.\"\"\"\n",
    "    norm = np.linalg.norm(v)\n",
    "    if norm == 0: \n",
    "       return v\n",
    "    return v / norm\n",
    "\n",
    "# Define the initial vector A and target vector B\n",
    "A = np.array([-8.02, -0.62, 6.4])\n",
    "B = np.array([0, 0, 10])\n",
    "\n",
    "# Normalize the vectors\n",
    "A_norm = normalize(A)\n",
    "B_norm = normalize(B)\n",
    "\n",
    "# Calculate the cross product to find the rotation axis\n",
    "u = np.cross(A_norm, B_norm)\n",
    "\n",
    "# Normalize the rotation axis\n",
    "u = normalize(u)\n",
    "\n",
    "# Calculate the dot product to find the rotation angle\n",
    "theta = np.arccos(np.dot(A_norm, B_norm))\n",
    "\n",
    "# Components of the rotation axis\n",
    "ux, uy, uz = u\n",
    "\n",
    "# Calculate the rotation matrix using the axis-angle formula\n",
    "cos_theta = np.cos(theta)\n",
    "sin_theta = np.sin(theta)\n",
    "one_minus_cos_theta = 1 - cos_theta\n",
    "\n",
    "R = np.array([\n",
    "    [cos_theta + ux**2 * one_minus_cos_theta, ux * uy * one_minus_cos_theta - uz * sin_theta, ux * uz * one_minus_cos_theta + uy * sin_theta],\n",
    "    [uy * ux * one_minus_cos_theta + uz * sin_theta, cos_theta + uy**2 * one_minus_cos_theta, uy * uz * one_minus_cos_theta - ux * sin_theta],\n",
    "    [uz * ux * one_minus_cos_theta - uy * sin_theta, uz * uy * one_minus_cos_theta + ux * sin_theta, cos_theta + uz**2 * one_minus_cos_theta]\n",
    "])\n",
    "\n",
    "# Apply the rotation matrix to the initial vector A\n",
    "A_rotated = np.dot(R, A_norm)\n",
    "\n",
    "# Scale the rotated vector to match the magnitude of the target vector B\n",
    "A_rotated = A_rotated * np.linalg.norm(B)\n",
    "\n",
    "# Display the results\n",
    "print('Initial vector A:')\n",
    "print(A)\n",
    "print('Normalized initial vector A:')\n",
    "print(A_norm)\n",
    "print('Target vector B:')\n",
    "print(B)\n",
    "print('Normalized target vector B:')\n",
    "print(B_norm)\n",
    "print('Rotation axis (normalized):')\n",
    "print(u)\n",
    "print('Rotation angle (degrees):')\n",
    "print(np.degrees(theta))\n",
    "print('Rotation matrix R:')\n",
    "print(R)\n",
    "print('Rotated vector A:')\n",
    "print(A_rotated)\n"
   ]
  },
  {
   "cell_type": "code",
   "execution_count": 18,
   "metadata": {},
   "outputs": [
    {
     "name": "stdout",
     "output_type": "stream",
     "text": [
      "10.279338500117602\n"
     ]
    },
    {
     "data": {
      "text/plain": [
       "array([-6.18517170e-16, -1.90095744e-16,  1.00003293e+01])"
      ]
     },
     "execution_count": 18,
     "metadata": {},
     "output_type": "execute_result"
    }
   ],
   "source": [
    "R_new = (10/10.279)*R\n",
    "\n",
    "\n",
    "print(np.linalg.norm(A))\n",
    "\n",
    "np.dot(R_new,A)"
   ]
  },
  {
   "cell_type": "code",
   "execution_count": 19,
   "metadata": {},
   "outputs": [],
   "source": [
    "#create a function to return the rotation matrix for a given vector\n",
    "\n",
    "def create_rotation_matrix(v):\n",
    "    B = np.array([0, 0, 10])\n",
    "\n",
    "    #store the norm of v\n",
    "    v_normz = np.linalg.norm(v)\n",
    "\n",
    "    # Normalize the vectors\n",
    "    v_norm = normalize(v)\n",
    "    B_norm = normalize(B)\n",
    "\n",
    "    # Calculate the cross product to find the rotation axis\n",
    "    u = np.cross(v_norm, B_norm)\n",
    "\n",
    "    # Normalize the rotation axis\n",
    "    u = normalize(u)\n",
    "\n",
    "    # Calculate the dot product to find the rotation angle\n",
    "    theta = np.arccos(np.dot(v_norm, B_norm))\n",
    "\n",
    "    # Components of the rotation axis\n",
    "    ux, uy, uz = u\n",
    "\n",
    "    # Calculate the rotation matrix using the axis-angle formula\n",
    "    cos_theta = np.cos(theta)\n",
    "    sin_theta = np.sin(theta)\n",
    "    one_minus_cos_theta = 1 - cos_theta\n",
    "\n",
    "    R = np.array([\n",
    "        [cos_theta + ux**2 * one_minus_cos_theta, ux * uy * one_minus_cos_theta - uz * sin_theta, ux * uz * one_minus_cos_theta + uy * sin_theta],\n",
    "        [uy * ux * one_minus_cos_theta + uz * sin_theta, cos_theta + uy**2 * one_minus_cos_theta, uy * uz * one_minus_cos_theta - ux * sin_theta],\n",
    "        [uz * ux * one_minus_cos_theta - uy * sin_theta, uz * uy * one_minus_cos_theta + ux * sin_theta, cos_theta + uz**2 * one_minus_cos_theta]\n",
    "    ])\n",
    "\n",
    "    R = (10/(v_normz))*R # 10 is for decig's\n",
    "\n",
    "    return R"
   ]
  },
  {
   "cell_type": "code",
   "execution_count": 20,
   "metadata": {},
   "outputs": [
    {
     "data": {
      "text/plain": [
       "array([-1.32906879e-15, -1.45687510e-16,  1.00000000e+01])"
      ]
     },
     "execution_count": 20,
     "metadata": {},
     "output_type": "execute_result"
    }
   ],
   "source": [
    "\n",
    "\n",
    "\n",
    "\n",
    "\n",
    "\n",
    "np.dot(create_rotation_matrix(A),A)"
   ]
  },
  {
   "cell_type": "code",
   "execution_count": 21,
   "metadata": {},
   "outputs": [
    {
     "name": "stdout",
     "output_type": "stream",
     "text": [
      "[[ 0.6150651   0.08011721  0.79038297]\n",
      " [ 0.08011721  0.98822982 -0.16251808]\n",
      " [-0.79038297  0.16251808  0.59859144]]\n"
     ]
    }
   ],
   "source": [
    "v_new = np.array([-7.83,1.61,5.93])\n",
    "print(create_rotation_matrix(v_new))"
   ]
  },
  {
   "cell_type": "code",
   "execution_count": null,
   "metadata": {},
   "outputs": [],
   "source": [
    "A_new = np.array"
   ]
  }
 ],
 "metadata": {
  "kernelspec": {
   "display_name": "base",
   "language": "python",
   "name": "python3"
  },
  "language_info": {
   "codemirror_mode": {
    "name": "ipython",
    "version": 3
   },
   "file_extension": ".py",
   "mimetype": "text/x-python",
   "name": "python",
   "nbconvert_exporter": "python",
   "pygments_lexer": "ipython3",
   "version": "3.11.5"
  }
 },
 "nbformat": 4,
 "nbformat_minor": 2
}
