{
 "cells": [
  {
   "cell_type": "code",
   "execution_count": 1,
   "metadata": {},
   "outputs": [
    {
     "name": "stdout",
     "output_type": "stream",
     "text": [
      "Initial vector A:\n",
      "[-8.02 -0.62  6.4 ]\n",
      "Normalized initial vector A:\n",
      "[-0.78020585 -0.06031517  0.62260816]\n",
      "Target vector B:\n",
      "[0.  0.  9.8]\n",
      "Normalized target vector B:\n",
      "[0. 0. 1.]\n",
      "Rotation axis (normalized):\n",
      "[-0.07707676  0.99702516  0.        ]\n",
      "Rotation angle (degrees):\n",
      "51.49315291598431\n",
      "Rotation matrix R:\n",
      "[[ 0.62485018 -0.02900161  0.78020585]\n",
      " [-0.02900161  0.99775798  0.06031517]\n",
      " [-0.78020585 -0.06031517  0.62260816]]\n",
      "Rotated vector A:\n",
      "[-1.32177255e-15 -2.04003481e-16  9.80000000e+00]\n"
     ]
    }
   ],
   "source": [
    "import numpy as np\n",
    "\n",
    "def normalize(v):\n",
    "    \"\"\"Normalize a vector.\"\"\"\n",
    "    norm = np.linalg.norm(v)\n",
    "    if norm == 0: \n",
    "       return v\n",
    "    return v / norm\n",
    "\n",
    "# Define the initial vector A and target vector B\n",
    "A = np.array([-8.02, -0.62, 6.4])\n",
    "B = np.array([0, 0, 9.8])\n",
    "\n",
    "# Normalize the vectors\n",
    "A_norm = normalize(A)\n",
    "B_norm = normalize(B)\n",
    "\n",
    "# Calculate the cross product to find the rotation axis\n",
    "u = np.cross(A_norm, B_norm)\n",
    "\n",
    "# Normalize the rotation axis\n",
    "u = normalize(u)\n",
    "\n",
    "# Calculate the dot product to find the rotation angle\n",
    "theta = np.arccos(np.dot(A_norm, B_norm))\n",
    "\n",
    "# Components of the rotation axis\n",
    "ux, uy, uz = u\n",
    "\n",
    "# Calculate the rotation matrix using the axis-angle formula\n",
    "cos_theta = np.cos(theta)\n",
    "sin_theta = np.sin(theta)\n",
    "one_minus_cos_theta = 1 - cos_theta\n",
    "\n",
    "R = np.array([\n",
    "    [cos_theta + ux**2 * one_minus_cos_theta, ux * uy * one_minus_cos_theta - uz * sin_theta, ux * uz * one_minus_cos_theta + uy * sin_theta],\n",
    "    [uy * ux * one_minus_cos_theta + uz * sin_theta, cos_theta + uy**2 * one_minus_cos_theta, uy * uz * one_minus_cos_theta - ux * sin_theta],\n",
    "    [uz * ux * one_minus_cos_theta - uy * sin_theta, uz * uy * one_minus_cos_theta + ux * sin_theta, cos_theta + uz**2 * one_minus_cos_theta]\n",
    "])\n",
    "\n",
    "# Apply the rotation matrix to the initial vector A\n",
    "A_rotated = np.dot(R, A_norm)\n",
    "\n",
    "# Scale the rotated vector to match the magnitude of the target vector B\n",
    "A_rotated = A_rotated * np.linalg.norm(B)\n",
    "\n",
    "# Display the results\n",
    "print('Initial vector A:')\n",
    "print(A)\n",
    "print('Normalized initial vector A:')\n",
    "print(A_norm)\n",
    "print('Target vector B:')\n",
    "print(B)\n",
    "print('Normalized target vector B:')\n",
    "print(B_norm)\n",
    "print('Rotation axis (normalized):')\n",
    "print(u)\n",
    "print('Rotation angle (degrees):')\n",
    "print(np.degrees(theta))\n",
    "print('Rotation matrix R:')\n",
    "print(R)\n",
    "print('Rotated vector A:')\n",
    "print(A_rotated)\n"
   ]
  },
  {
   "cell_type": "code",
   "execution_count": 7,
   "metadata": {},
   "outputs": [
    {
     "data": {
      "text/plain": [
       "array([-1.06858966e-15, -1.11022302e-16,  9.80032273e+00])"
      ]
     },
     "execution_count": 7,
     "metadata": {},
     "output_type": "execute_result"
    }
   ],
   "source": [
    "R_new = (9.8/10.279)*R\n",
    "\n",
    "\n",
    "\n",
    "np.dot(R_new,A)"
   ]
  },
  {
   "cell_type": "code",
   "execution_count": 8,
   "metadata": {},
   "outputs": [
    {
     "name": "stdout",
     "output_type": "stream",
     "text": [
      "[[ 0.59573224 -0.02765014  0.74384836]\n",
      " [-0.02765014  0.95126259  0.05750449]\n",
      " [-0.74384836 -0.05750449  0.5935947 ]]\n"
     ]
    }
   ],
   "source": [
    "print (R_new)"
   ]
  }
 ],
 "metadata": {
  "kernelspec": {
   "display_name": "base",
   "language": "python",
   "name": "python3"
  },
  "language_info": {
   "codemirror_mode": {
    "name": "ipython",
    "version": 3
   },
   "file_extension": ".py",
   "mimetype": "text/x-python",
   "name": "python",
   "nbconvert_exporter": "python",
   "pygments_lexer": "ipython3",
   "version": "3.9.12"
  }
 },
 "nbformat": 4,
 "nbformat_minor": 2
}
